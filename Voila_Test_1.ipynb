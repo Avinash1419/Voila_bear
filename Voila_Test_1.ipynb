{
 "cells": [
  {
   "cell_type": "markdown",
   "metadata": {
    "colab_type": "text",
    "id": "WEDTPq9gPUiS"
   },
   "source": [
    "*Importing basic libraries*"
   ]
  },
  {
   "cell_type": "code",
   "execution_count": 1,
   "metadata": {
    "colab": {},
    "colab_type": "code",
    "id": "PXpyyvlXLdAt"
   },
   "outputs": [
    {
     "name": "stderr",
     "output_type": "stream",
     "text": [
      "/Users/avinash/opt/anaconda3/lib/python3.7/site-packages/fastbook/__init__.py:22: UserWarning: Missing `graphviz` - please run `conda install fastbook`\n",
      "  except ModuleNotFoundError: warn(\"Missing `graphviz` - please run `conda install fastbook`\")\n"
     ]
    }
   ],
   "source": [
    "#hide\n",
    "from fastbook import *\n",
    "from fastai.vision.widgets import *\n"
   ]
  },
  {
   "cell_type": "code",
   "execution_count": 2,
   "metadata": {},
   "outputs": [
    {
     "name": "stdout",
     "output_type": "stream",
     "text": [
      "Collecting package metadata (current_repodata.json): done\n",
      "Solving environment: failed with initial frozen solve. Retrying with flexible solve.\n",
      "Collecting package metadata (repodata.json): done\n",
      "Solving environment: failed with initial frozen solve. Retrying with flexible solve.\n",
      "\n",
      "PackagesNotFoundError: The following packages are not available from current channels:\n",
      "\n",
      "  - fastbook\n",
      "\n",
      "Current channels:\n",
      "\n",
      "  - https://repo.anaconda.com/pkgs/main/osx-64\n",
      "  - https://repo.anaconda.com/pkgs/main/noarch\n",
      "  - https://repo.anaconda.com/pkgs/r/osx-64\n",
      "  - https://repo.anaconda.com/pkgs/r/noarch\n",
      "\n",
      "To search for alternate channels that may provide the conda package you're\n",
      "looking for, navigate to\n",
      "\n",
      "    https://anaconda.org\n",
      "\n",
      "and use the search bar at the top of the page.\n",
      "\n",
      "\n",
      "\n",
      "Note: you may need to restart the kernel to use updated packages.\n"
     ]
    }
   ],
   "source": [
    "conda install fastbook"
   ]
  },
  {
   "cell_type": "code",
   "execution_count": 3,
   "metadata": {
    "colab": {
     "base_uri": "https://localhost:8080/",
     "height": 1000
    },
    "colab_type": "code",
    "id": "dtiy2nppLd2N",
    "outputId": "0468241b-b0de-4177-8e9a-d3797f46abbd"
   },
   "outputs": [
    {
     "name": "stdout",
     "output_type": "stream",
     "text": [
      "Requirement already satisfied: voila in /Users/avinash/opt/anaconda3/lib/python3.7/site-packages (0.2.2)\n",
      "Requirement already satisfied: nbclient<0.6,>=0.4.0 in /Users/avinash/opt/anaconda3/lib/python3.7/site-packages (from voila) (0.5.0)\n",
      "Requirement already satisfied: jupyter-client<7,>=6.1.3 in /Users/avinash/opt/anaconda3/lib/python3.7/site-packages (from voila) (6.1.7)\n",
      "Requirement already satisfied: jupyter-server<0.4.0,>=0.3.0 in /Users/avinash/opt/anaconda3/lib/python3.7/site-packages (from voila) (0.3.0)\n",
      "Requirement already satisfied: nbconvert<7,>=6.0.0 in /Users/avinash/opt/anaconda3/lib/python3.7/site-packages (from voila) (6.0.6)\n",
      "Requirement already satisfied: traitlets>=4.2 in /Users/avinash/opt/anaconda3/lib/python3.7/site-packages (from nbclient<0.6,>=0.4.0->voila) (4.3.3)\n",
      "Requirement already satisfied: nest-asyncio in /Users/avinash/opt/anaconda3/lib/python3.7/site-packages (from nbclient<0.6,>=0.4.0->voila) (1.4.0)\n",
      "Requirement already satisfied: nbformat>=5.0 in /Users/avinash/opt/anaconda3/lib/python3.7/site-packages (from nbclient<0.6,>=0.4.0->voila) (5.0.4)\n",
      "Requirement already satisfied: async-generator in /Users/avinash/opt/anaconda3/lib/python3.7/site-packages (from nbclient<0.6,>=0.4.0->voila) (1.10)\n",
      "Requirement already satisfied: jupyter-core>=4.6.0 in /Users/avinash/opt/anaconda3/lib/python3.7/site-packages (from jupyter-client<7,>=6.1.3->voila) (4.6.1)\n",
      "Requirement already satisfied: python-dateutil>=2.1 in /Users/avinash/opt/anaconda3/lib/python3.7/site-packages (from jupyter-client<7,>=6.1.3->voila) (2.8.1)\n",
      "Requirement already satisfied: pyzmq>=13 in /Users/avinash/opt/anaconda3/lib/python3.7/site-packages (from jupyter-client<7,>=6.1.3->voila) (18.1.1)\n",
      "Requirement already satisfied: tornado>=4.1 in /Users/avinash/opt/anaconda3/lib/python3.7/site-packages (from jupyter-client<7,>=6.1.3->voila) (6.0.3)\n",
      "Requirement already satisfied: ipykernel in /Users/avinash/opt/anaconda3/lib/python3.7/site-packages (from jupyter-server<0.4.0,>=0.3.0->voila) (5.1.4)\n",
      "Requirement already satisfied: ipython-genutils in /Users/avinash/opt/anaconda3/lib/python3.7/site-packages (from jupyter-server<0.4.0,>=0.3.0->voila) (0.2.0)\n",
      "Requirement already satisfied: terminado>=0.8.3 in /Users/avinash/opt/anaconda3/lib/python3.7/site-packages (from jupyter-server<0.4.0,>=0.3.0->voila) (0.8.3)\n",
      "Requirement already satisfied: prometheus-client in /Users/avinash/opt/anaconda3/lib/python3.7/site-packages (from jupyter-server<0.4.0,>=0.3.0->voila) (0.7.1)\n",
      "Requirement already satisfied: jinja2 in /Users/avinash/opt/anaconda3/lib/python3.7/site-packages (from jupyter-server<0.4.0,>=0.3.0->voila) (2.11.1)\n",
      "Requirement already satisfied: Send2Trash in /Users/avinash/opt/anaconda3/lib/python3.7/site-packages (from jupyter-server<0.4.0,>=0.3.0->voila) (1.5.0)\n",
      "Requirement already satisfied: jupyterlab-pygments in /Users/avinash/opt/anaconda3/lib/python3.7/site-packages (from nbconvert<7,>=6.0.0->voila) (0.1.1)\n",
      "Requirement already satisfied: pygments>=2.4.1 in /Users/avinash/opt/anaconda3/lib/python3.7/site-packages (from nbconvert<7,>=6.0.0->voila) (2.5.2)\n",
      "Requirement already satisfied: pandocfilters>=1.4.1 in /Users/avinash/opt/anaconda3/lib/python3.7/site-packages (from nbconvert<7,>=6.0.0->voila) (1.4.2)\n",
      "Requirement already satisfied: mistune<2,>=0.8.1 in /Users/avinash/opt/anaconda3/lib/python3.7/site-packages (from nbconvert<7,>=6.0.0->voila) (0.8.4)\n",
      "Requirement already satisfied: entrypoints>=0.2.2 in /Users/avinash/opt/anaconda3/lib/python3.7/site-packages (from nbconvert<7,>=6.0.0->voila) (0.3)\n",
      "Requirement already satisfied: testpath in /Users/avinash/opt/anaconda3/lib/python3.7/site-packages (from nbconvert<7,>=6.0.0->voila) (0.4.4)\n",
      "Requirement already satisfied: defusedxml in /Users/avinash/opt/anaconda3/lib/python3.7/site-packages (from nbconvert<7,>=6.0.0->voila) (0.6.0)\n",
      "Requirement already satisfied: bleach in /Users/avinash/opt/anaconda3/lib/python3.7/site-packages (from nbconvert<7,>=6.0.0->voila) (3.1.0)\n",
      "Requirement already satisfied: six in /Users/avinash/opt/anaconda3/lib/python3.7/site-packages (from traitlets>=4.2->nbclient<0.6,>=0.4.0->voila) (1.14.0)\n",
      "Requirement already satisfied: decorator in /Users/avinash/opt/anaconda3/lib/python3.7/site-packages (from traitlets>=4.2->nbclient<0.6,>=0.4.0->voila) (4.4.1)\n",
      "Requirement already satisfied: jsonschema!=2.5.0,>=2.4 in /Users/avinash/opt/anaconda3/lib/python3.7/site-packages (from nbformat>=5.0->nbclient<0.6,>=0.4.0->voila) (3.2.0)\n",
      "Requirement already satisfied: ipython>=5.0.0 in /Users/avinash/opt/anaconda3/lib/python3.7/site-packages (from ipykernel->jupyter-server<0.4.0,>=0.3.0->voila) (7.12.0)\n",
      "Requirement already satisfied: appnope; platform_system == \"Darwin\" in /Users/avinash/opt/anaconda3/lib/python3.7/site-packages (from ipykernel->jupyter-server<0.4.0,>=0.3.0->voila) (0.1.0)\n",
      "Requirement already satisfied: MarkupSafe>=0.23 in /Users/avinash/opt/anaconda3/lib/python3.7/site-packages (from jinja2->jupyter-server<0.4.0,>=0.3.0->voila) (1.1.1)\n",
      "Requirement already satisfied: webencodings in /Users/avinash/opt/anaconda3/lib/python3.7/site-packages (from bleach->nbconvert<7,>=6.0.0->voila) (0.5.1)\n",
      "Requirement already satisfied: setuptools in /Users/avinash/opt/anaconda3/lib/python3.7/site-packages (from jsonschema!=2.5.0,>=2.4->nbformat>=5.0->nbclient<0.6,>=0.4.0->voila) (46.0.0.post20200309)\n",
      "Requirement already satisfied: attrs>=17.4.0 in /Users/avinash/opt/anaconda3/lib/python3.7/site-packages (from jsonschema!=2.5.0,>=2.4->nbformat>=5.0->nbclient<0.6,>=0.4.0->voila) (19.3.0)\n",
      "Requirement already satisfied: pyrsistent>=0.14.0 in /Users/avinash/opt/anaconda3/lib/python3.7/site-packages (from jsonschema!=2.5.0,>=2.4->nbformat>=5.0->nbclient<0.6,>=0.4.0->voila) (0.15.7)\n",
      "Requirement already satisfied: importlib-metadata; python_version < \"3.8\" in /Users/avinash/opt/anaconda3/lib/python3.7/site-packages (from jsonschema!=2.5.0,>=2.4->nbformat>=5.0->nbclient<0.6,>=0.4.0->voila) (1.5.0)\n",
      "Requirement already satisfied: pickleshare in /Users/avinash/opt/anaconda3/lib/python3.7/site-packages (from ipython>=5.0.0->ipykernel->jupyter-server<0.4.0,>=0.3.0->voila) (0.7.5)\n",
      "Requirement already satisfied: prompt-toolkit!=3.0.0,!=3.0.1,<3.1.0,>=2.0.0 in /Users/avinash/opt/anaconda3/lib/python3.7/site-packages (from ipython>=5.0.0->ipykernel->jupyter-server<0.4.0,>=0.3.0->voila) (3.0.3)\n",
      "Requirement already satisfied: jedi>=0.10 in /Users/avinash/opt/anaconda3/lib/python3.7/site-packages (from ipython>=5.0.0->ipykernel->jupyter-server<0.4.0,>=0.3.0->voila) (0.14.1)\n",
      "Requirement already satisfied: pexpect; sys_platform != \"win32\" in /Users/avinash/opt/anaconda3/lib/python3.7/site-packages (from ipython>=5.0.0->ipykernel->jupyter-server<0.4.0,>=0.3.0->voila) (4.8.0)\n",
      "Requirement already satisfied: backcall in /Users/avinash/opt/anaconda3/lib/python3.7/site-packages (from ipython>=5.0.0->ipykernel->jupyter-server<0.4.0,>=0.3.0->voila) (0.1.0)\n",
      "Requirement already satisfied: zipp>=0.5 in /Users/avinash/opt/anaconda3/lib/python3.7/site-packages (from importlib-metadata; python_version < \"3.8\"->jsonschema!=2.5.0,>=2.4->nbformat>=5.0->nbclient<0.6,>=0.4.0->voila) (2.2.0)\n",
      "Requirement already satisfied: wcwidth in /Users/avinash/opt/anaconda3/lib/python3.7/site-packages (from prompt-toolkit!=3.0.0,!=3.0.1,<3.1.0,>=2.0.0->ipython>=5.0.0->ipykernel->jupyter-server<0.4.0,>=0.3.0->voila) (0.1.8)\n",
      "Requirement already satisfied: parso>=0.5.0 in /Users/avinash/opt/anaconda3/lib/python3.7/site-packages (from jedi>=0.10->ipython>=5.0.0->ipykernel->jupyter-server<0.4.0,>=0.3.0->voila) (0.5.2)\n",
      "Requirement already satisfied: ptyprocess>=0.5 in /Users/avinash/opt/anaconda3/lib/python3.7/site-packages (from pexpect; sys_platform != \"win32\"->ipython>=5.0.0->ipykernel->jupyter-server<0.4.0,>=0.3.0->voila) (0.6.0)\n",
      "\u001b[33mWARNING: You are using pip version 20.2.2; however, version 20.2.3 is available.\n",
      "You should consider upgrading via the '/Users/avinash/opt/anaconda3/bin/python -m pip install --upgrade pip' command.\u001b[0m\n",
      "Enabling: voila\n",
      "- Writing config: /Users/avinash/.jupyter\n",
      "    - Validating...\n",
      "      voila 0.2.2 \u001b[32mOK\u001b[0m\n",
      "Enabling: —sys-prefix\n",
      "- Writing config: /Users/avinash/.jupyter\n",
      "    - Validating...\n",
      "Error loading server extension —sys-prefix\n",
      "     \u001b[31m X\u001b[0m is —sys-prefix importable?\n"
     ]
    }
   ],
   "source": [
    "!pip install voila\n",
    "!jupyter serverextension enable voila —sys-prefix"
   ]
  },
  {
   "cell_type": "markdown",
   "metadata": {
    "colab_type": "text",
    "id": "UxvvmRtHPfbr"
   },
   "source": [
    "Bringing basic data for web_app"
   ]
  },
  {
   "cell_type": "code",
   "execution_count": 4,
   "metadata": {
    "colab": {
     "base_uri": "https://localhost:8080/",
     "height": 34
    },
    "colab_type": "code",
    "id": "2rqbuwaRMMY3",
    "outputId": "1936c98f-8c23-4531-8d81-2290c55e7796"
   },
   "outputs": [
    {
     "data": {
      "text/plain": [
       "(#1) [Path('export.pkl')]"
      ]
     },
     "execution_count": 4,
     "metadata": {},
     "output_type": "execute_result"
    }
   ],
   "source": [
    "path = Path()\n",
    "path.ls(file_exts = '.pkl')"
   ]
  },
  {
   "cell_type": "code",
   "execution_count": 5,
   "metadata": {
    "colab": {},
    "colab_type": "code",
    "id": "DcslxTl0MxqO"
   },
   "outputs": [],
   "source": [
    "learn_inf = load_learner(path/'export.pkl')"
   ]
  },
  {
   "cell_type": "code",
   "execution_count": 7,
   "metadata": {
    "colab": {
     "base_uri": "https://localhost:8080/",
     "height": 34
    },
    "colab_type": "code",
    "id": "AzE6ntkfOQil",
    "outputId": "dec5654b-ce67-4936-8d69-d47cd93b8a5b"
   },
   "outputs": [
    {
     "data": {
      "text/html": [],
      "text/plain": [
       "<IPython.core.display.HTML object>"
      ]
     },
     "metadata": {},
     "output_type": "display_data"
    },
    {
     "data": {
      "text/plain": [
       "('grizzly', tensor(1), tensor([6.2926e-06, 9.9999e-01, 1.3990e-07]))"
      ]
     },
     "execution_count": 7,
     "metadata": {},
     "output_type": "execute_result"
    }
   ],
   "source": [
    "learn_inf.predict('images/grizzly.jpg')"
   ]
  },
  {
   "cell_type": "code",
   "execution_count": 8,
   "metadata": {
    "colab": {
     "base_uri": "https://localhost:8080/",
     "height": 34
    },
    "colab_type": "code",
    "id": "EzMbI_BUOxrJ",
    "outputId": "734f7d31-e12f-411e-eb3f-02a47c65ad2a"
   },
   "outputs": [
    {
     "data": {
      "text/plain": [
       "(#3) ['black','grizzly','teddy']"
      ]
     },
     "execution_count": 8,
     "metadata": {},
     "output_type": "execute_result"
    }
   ],
   "source": [
    "learn_inf.dls.vocab"
   ]
  },
  {
   "cell_type": "markdown",
   "metadata": {
    "colab_type": "text",
    "id": "NoET0UhlP7f4"
   },
   "source": [
    "**App basic GUI**"
   ]
  },
  {
   "cell_type": "markdown",
   "metadata": {
    "colab_type": "text",
    "id": "_Zi0ZiReQQNf"
   },
   "source": [
    "Defining basic buttons required"
   ]
  },
  {
   "cell_type": "code",
   "execution_count": 10,
   "metadata": {
    "colab": {
     "base_uri": "https://localhost:8080/",
     "height": 17
    },
    "colab_type": "code",
    "id": "yGkdRjk9QAPy",
    "outputId": "f7462ded-f103-4b46-a4f0-a3ca44c0142e"
   },
   "outputs": [
    {
     "data": {
      "text/html": [],
      "text/plain": [
       "<IPython.core.display.HTML object>"
      ]
     },
     "metadata": {},
     "output_type": "display_data"
    }
   ],
   "source": [
    "#Upload button\n",
    "btn_upload = widgets.FileUpload()\n",
    "btn_upload\n",
    "\n",
    "# For the book, we can't actually click an upload button, so we fake it\n",
    "btn_upload = SimpleNamespace(data = ['images/grizzly.jpg'])\n",
    "\n",
    "#storing image for display\n",
    "img = PILImage.create(btn_upload.data[-1])\n",
    "\n",
    "#Output button\n",
    "out_pl = widgets.Output()\n",
    "out_pl.clear_output()\n",
    "with out_pl: display(img.to_thumb(128,128))\n",
    "out_pl\n",
    "\n",
    "#Inference determination\n",
    "pred,pred_idx,probs = learn_inf.predict(img)\n",
    "\n",
    "#Label display\n",
    "lbl_pred = widgets.Label()\n",
    "lbl_pred.value = f'Prediction: {pred}; Probability: {probs[pred_idx]:.04f}'\n",
    "lbl_pred\n",
    "\n",
    "#Classifier button, that runs once you click on classify\n",
    "btn_run = widgets.Button(description='Classify')\n",
    "btn_run\n",
    "\n",
    "#hide\n",
    "#Putting back btn_upload to a widget for next cell\n",
    "btn_upload = widgets.FileUpload()\n"
   ]
  },
  {
   "cell_type": "code",
   "execution_count": 11,
   "metadata": {
    "colab": {},
    "colab_type": "code",
    "id": "D5ryRd7LQZ1G"
   },
   "outputs": [],
   "source": [
    "#On click event handler\n",
    "def on_click_classify(change):\n",
    "    img = PILImage.create(btn_upload.data[-1])\n",
    "    out_pl.clear_output()\n",
    "    with out_pl: display(img.to_thumb(128,128))\n",
    "    pred,pred_idx,probs = learn_inf.predict(img)\n",
    "    lbl_pred.value = f'Prediction: {pred}; Probability: {probs[pred_idx]:.04f}'\n",
    "\n",
    "btn_run.on_click(on_click_classify)"
   ]
  },
  {
   "cell_type": "code",
   "execution_count": 12,
   "metadata": {
    "colab": {
     "base_uri": "https://localhost:8080/",
     "height": 273,
     "referenced_widgets": [
      "0e158c8b89fe4f2aa42b672fcc369da6",
      "bcfa3d8d809f43f6b825bc36a366f765",
      "759676173ed4476584b0710d40daef3d",
      "eddae847a4de4a9da03146dd12ccd1e2",
      "e89cbc0940b344829714a81c187e7174",
      "bd3fea41282c42b297234d8b377af080",
      "045af2e78139413e91b66096b403c008",
      "dbb9b5a47d1d4c9d909ca59d48007ee1",
      "ec3f924d1b864d6b8d95383267b72e64",
      "87106ffb72ad479c8dc1478af1222c8d",
      "563a73fb65f9486f8884e8386c3bf441",
      "ad8ecad38a3e462f8c89ef2892cb7e46",
      "63c07d0f94a44386bb55e05971484fc0",
      "88459e3a2b794390bc4f71f91a42e87e",
      "a7c7d865bbd84991ad352f8bccf78952",
      "ca6d1c5bfcfc442d8a9504587803558a"
     ]
    },
    "colab_type": "code",
    "id": "ZnbscrwpRgmJ",
    "outputId": "24b686d4-72ad-42c4-e135-1c4e72865fa7"
   },
   "outputs": [
    {
     "data": {
      "application/vnd.jupyter.widget-view+json": {
       "model_id": "c625485908d34d1b8c6a7778bf3e29d7",
       "version_major": 2,
       "version_minor": 0
      },
      "text/plain": [
       "VBox(children=(Label(value='Select your bear!'), FileUpload(value={}, description='Upload'), Button(descriptio…"
      ]
     },
     "metadata": {},
     "output_type": "display_data"
    },
    {
     "data": {
      "text/html": [],
      "text/plain": [
       "<IPython.core.display.HTML object>"
      ]
     },
     "metadata": {},
     "output_type": "display_data"
    },
    {
     "data": {
      "text/html": [],
      "text/plain": [
       "<IPython.core.display.HTML object>"
      ]
     },
     "metadata": {},
     "output_type": "display_data"
    }
   ],
   "source": [
    "#Final app display\n",
    "VBox([widgets.Label('Select your bear!'), \n",
    "      btn_upload, btn_run, out_pl, lbl_pred])"
   ]
  },
  {
   "cell_type": "code",
   "execution_count": null,
   "metadata": {},
   "outputs": [],
   "source": []
  }
 ],
 "metadata": {
  "colab": {
   "name": "Voila_Test_1.ipynb",
   "provenance": []
  },
  "kernelspec": {
   "display_name": "Python 3",
   "language": "python",
   "name": "python3"
  },
  "language_info": {
   "codemirror_mode": {
    "name": "ipython",
    "version": 3
   },
   "file_extension": ".py",
   "mimetype": "text/x-python",
   "name": "python",
   "nbconvert_exporter": "python",
   "pygments_lexer": "ipython3",
   "version": "3.7.6"
  },
  "widgets": {
   "application/vnd.jupyter.widget-state+json": {
    "045af2e78139413e91b66096b403c008": {
     "model_module": "@jupyter-widgets/controls",
     "model_name": "LabelModel",
     "state": {
      "_dom_classes": [],
      "_model_module": "@jupyter-widgets/controls",
      "_model_module_version": "1.5.0",
      "_model_name": "LabelModel",
      "_view_count": null,
      "_view_module": "@jupyter-widgets/controls",
      "_view_module_version": "1.5.0",
      "_view_name": "LabelView",
      "description": "",
      "description_tooltip": null,
      "layout": "IPY_MODEL_a7c7d865bbd84991ad352f8bccf78952",
      "placeholder": "​",
      "style": "IPY_MODEL_88459e3a2b794390bc4f71f91a42e87e",
      "value": "Prediction: teddy; Probability: 1.0000"
     }
    },
    "0e158c8b89fe4f2aa42b672fcc369da6": {
     "model_module": "@jupyter-widgets/controls",
     "model_name": "VBoxModel",
     "state": {
      "_dom_classes": [],
      "_model_module": "@jupyter-widgets/controls",
      "_model_module_version": "1.5.0",
      "_model_name": "VBoxModel",
      "_view_count": null,
      "_view_module": "@jupyter-widgets/controls",
      "_view_module_version": "1.5.0",
      "_view_name": "VBoxView",
      "box_style": "",
      "children": [
       "IPY_MODEL_759676173ed4476584b0710d40daef3d",
       "IPY_MODEL_eddae847a4de4a9da03146dd12ccd1e2",
       "IPY_MODEL_e89cbc0940b344829714a81c187e7174",
       "IPY_MODEL_bd3fea41282c42b297234d8b377af080",
       "IPY_MODEL_045af2e78139413e91b66096b403c008"
      ],
      "layout": "IPY_MODEL_bcfa3d8d809f43f6b825bc36a366f765"
     }
    },
    "563a73fb65f9486f8884e8386c3bf441": {
     "model_module": "@jupyter-widgets/base",
     "model_name": "LayoutModel",
     "state": {
      "_model_module": "@jupyter-widgets/base",
      "_model_module_version": "1.2.0",
      "_model_name": "LayoutModel",
      "_view_count": null,
      "_view_module": "@jupyter-widgets/base",
      "_view_module_version": "1.2.0",
      "_view_name": "LayoutView",
      "align_content": null,
      "align_items": null,
      "align_self": null,
      "border": null,
      "bottom": null,
      "display": null,
      "flex": null,
      "flex_flow": null,
      "grid_area": null,
      "grid_auto_columns": null,
      "grid_auto_flow": null,
      "grid_auto_rows": null,
      "grid_column": null,
      "grid_gap": null,
      "grid_row": null,
      "grid_template_areas": null,
      "grid_template_columns": null,
      "grid_template_rows": null,
      "height": null,
      "justify_content": null,
      "justify_items": null,
      "left": null,
      "margin": null,
      "max_height": null,
      "max_width": null,
      "min_height": null,
      "min_width": null,
      "object_fit": null,
      "object_position": null,
      "order": null,
      "overflow": null,
      "overflow_x": null,
      "overflow_y": null,
      "padding": null,
      "right": null,
      "top": null,
      "visibility": null,
      "width": null
     }
    },
    "63c07d0f94a44386bb55e05971484fc0": {
     "model_module": "@jupyter-widgets/base",
     "model_name": "LayoutModel",
     "state": {
      "_model_module": "@jupyter-widgets/base",
      "_model_module_version": "1.2.0",
      "_model_name": "LayoutModel",
      "_view_count": null,
      "_view_module": "@jupyter-widgets/base",
      "_view_module_version": "1.2.0",
      "_view_name": "LayoutView",
      "align_content": null,
      "align_items": null,
      "align_self": null,
      "border": null,
      "bottom": null,
      "display": null,
      "flex": null,
      "flex_flow": null,
      "grid_area": null,
      "grid_auto_columns": null,
      "grid_auto_flow": null,
      "grid_auto_rows": null,
      "grid_column": null,
      "grid_gap": null,
      "grid_row": null,
      "grid_template_areas": null,
      "grid_template_columns": null,
      "grid_template_rows": null,
      "height": null,
      "justify_content": null,
      "justify_items": null,
      "left": null,
      "margin": null,
      "max_height": null,
      "max_width": null,
      "min_height": null,
      "min_width": null,
      "object_fit": null,
      "object_position": null,
      "order": null,
      "overflow": null,
      "overflow_x": null,
      "overflow_y": null,
      "padding": null,
      "right": null,
      "top": null,
      "visibility": null,
      "width": null
     }
    },
    "759676173ed4476584b0710d40daef3d": {
     "model_module": "@jupyter-widgets/controls",
     "model_name": "LabelModel",
     "state": {
      "_dom_classes": [],
      "_model_module": "@jupyter-widgets/controls",
      "_model_module_version": "1.5.0",
      "_model_name": "LabelModel",
      "_view_count": null,
      "_view_module": "@jupyter-widgets/controls",
      "_view_module_version": "1.5.0",
      "_view_name": "LabelView",
      "description": "",
      "description_tooltip": null,
      "layout": "IPY_MODEL_ec3f924d1b864d6b8d95383267b72e64",
      "placeholder": "​",
      "style": "IPY_MODEL_dbb9b5a47d1d4c9d909ca59d48007ee1",
      "value": "Select your bear!"
     }
    },
    "87106ffb72ad479c8dc1478af1222c8d": {
     "model_module": "@jupyter-widgets/controls",
     "model_name": "ButtonStyleModel",
     "state": {
      "_model_module": "@jupyter-widgets/controls",
      "_model_module_version": "1.5.0",
      "_model_name": "ButtonStyleModel",
      "_view_count": null,
      "_view_module": "@jupyter-widgets/base",
      "_view_module_version": "1.2.0",
      "_view_name": "StyleView",
      "button_color": null,
      "font_weight": ""
     }
    },
    "88459e3a2b794390bc4f71f91a42e87e": {
     "model_module": "@jupyter-widgets/controls",
     "model_name": "DescriptionStyleModel",
     "state": {
      "_model_module": "@jupyter-widgets/controls",
      "_model_module_version": "1.5.0",
      "_model_name": "DescriptionStyleModel",
      "_view_count": null,
      "_view_module": "@jupyter-widgets/base",
      "_view_module_version": "1.2.0",
      "_view_name": "StyleView",
      "description_width": ""
     }
    },
    "a7c7d865bbd84991ad352f8bccf78952": {
     "model_module": "@jupyter-widgets/base",
     "model_name": "LayoutModel",
     "state": {
      "_model_module": "@jupyter-widgets/base",
      "_model_module_version": "1.2.0",
      "_model_name": "LayoutModel",
      "_view_count": null,
      "_view_module": "@jupyter-widgets/base",
      "_view_module_version": "1.2.0",
      "_view_name": "LayoutView",
      "align_content": null,
      "align_items": null,
      "align_self": null,
      "border": null,
      "bottom": null,
      "display": null,
      "flex": null,
      "flex_flow": null,
      "grid_area": null,
      "grid_auto_columns": null,
      "grid_auto_flow": null,
      "grid_auto_rows": null,
      "grid_column": null,
      "grid_gap": null,
      "grid_row": null,
      "grid_template_areas": null,
      "grid_template_columns": null,
      "grid_template_rows": null,
      "height": null,
      "justify_content": null,
      "justify_items": null,
      "left": null,
      "margin": null,
      "max_height": null,
      "max_width": null,
      "min_height": null,
      "min_width": null,
      "object_fit": null,
      "object_position": null,
      "order": null,
      "overflow": null,
      "overflow_x": null,
      "overflow_y": null,
      "padding": null,
      "right": null,
      "top": null,
      "visibility": null,
      "width": null
     }
    },
    "ad8ecad38a3e462f8c89ef2892cb7e46": {
     "model_module": "@jupyter-widgets/controls",
     "model_name": "ButtonStyleModel",
     "state": {
      "_model_module": "@jupyter-widgets/controls",
      "_model_module_version": "1.5.0",
      "_model_name": "ButtonStyleModel",
      "_view_count": null,
      "_view_module": "@jupyter-widgets/base",
      "_view_module_version": "1.2.0",
      "_view_name": "StyleView",
      "button_color": null,
      "font_weight": ""
     }
    },
    "bcfa3d8d809f43f6b825bc36a366f765": {
     "model_module": "@jupyter-widgets/base",
     "model_name": "LayoutModel",
     "state": {
      "_model_module": "@jupyter-widgets/base",
      "_model_module_version": "1.2.0",
      "_model_name": "LayoutModel",
      "_view_count": null,
      "_view_module": "@jupyter-widgets/base",
      "_view_module_version": "1.2.0",
      "_view_name": "LayoutView",
      "align_content": null,
      "align_items": null,
      "align_self": null,
      "border": null,
      "bottom": null,
      "display": null,
      "flex": null,
      "flex_flow": null,
      "grid_area": null,
      "grid_auto_columns": null,
      "grid_auto_flow": null,
      "grid_auto_rows": null,
      "grid_column": null,
      "grid_gap": null,
      "grid_row": null,
      "grid_template_areas": null,
      "grid_template_columns": null,
      "grid_template_rows": null,
      "height": null,
      "justify_content": null,
      "justify_items": null,
      "left": null,
      "margin": null,
      "max_height": null,
      "max_width": null,
      "min_height": null,
      "min_width": null,
      "object_fit": null,
      "object_position": null,
      "order": null,
      "overflow": null,
      "overflow_x": null,
      "overflow_y": null,
      "padding": null,
      "right": null,
      "top": null,
      "visibility": null,
      "width": null
     }
    },
    "bd3fea41282c42b297234d8b377af080": {
     "model_module": "@jupyter-widgets/output",
     "model_name": "OutputModel",
     "state": {
      "_dom_classes": [],
      "_model_module": "@jupyter-widgets/output",
      "_model_module_version": "1.0.0",
      "_model_name": "OutputModel",
      "_view_count": null,
      "_view_module": "@jupyter-widgets/output",
      "_view_module_version": "1.0.0",
      "_view_name": "OutputView",
      "layout": "IPY_MODEL_ca6d1c5bfcfc442d8a9504587803558a",
      "msg_id": "",
      "outputs": [
       {
        "image/png": "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\n",
        "metadata": {
         "tags": []
        },
        "output_type": "display_data",
        "text/plain": "<PIL.Image.Image image mode=RGB size=128x128 at 0x7F80F8B95EB8>"
       }
      ]
     }
    },
    "ca6d1c5bfcfc442d8a9504587803558a": {
     "model_module": "@jupyter-widgets/base",
     "model_name": "LayoutModel",
     "state": {
      "_model_module": "@jupyter-widgets/base",
      "_model_module_version": "1.2.0",
      "_model_name": "LayoutModel",
      "_view_count": null,
      "_view_module": "@jupyter-widgets/base",
      "_view_module_version": "1.2.0",
      "_view_name": "LayoutView",
      "align_content": null,
      "align_items": null,
      "align_self": null,
      "border": null,
      "bottom": null,
      "display": null,
      "flex": null,
      "flex_flow": null,
      "grid_area": null,
      "grid_auto_columns": null,
      "grid_auto_flow": null,
      "grid_auto_rows": null,
      "grid_column": null,
      "grid_gap": null,
      "grid_row": null,
      "grid_template_areas": null,
      "grid_template_columns": null,
      "grid_template_rows": null,
      "height": null,
      "justify_content": null,
      "justify_items": null,
      "left": null,
      "margin": null,
      "max_height": null,
      "max_width": null,
      "min_height": null,
      "min_width": null,
      "object_fit": null,
      "object_position": null,
      "order": null,
      "overflow": null,
      "overflow_x": null,
      "overflow_y": null,
      "padding": null,
      "right": null,
      "top": null,
      "visibility": null,
      "width": null
     }
    },
    "dbb9b5a47d1d4c9d909ca59d48007ee1": {
     "model_module": "@jupyter-widgets/controls",
     "model_name": "DescriptionStyleModel",
     "state": {
      "_model_module": "@jupyter-widgets/controls",
      "_model_module_version": "1.5.0",
      "_model_name": "DescriptionStyleModel",
      "_view_count": null,
      "_view_module": "@jupyter-widgets/base",
      "_view_module_version": "1.2.0",
      "_view_name": "StyleView",
      "description_width": ""
     }
    },
    "e89cbc0940b344829714a81c187e7174": {
     "model_module": "@jupyter-widgets/controls",
     "model_name": "ButtonModel",
     "state": {
      "_dom_classes": [],
      "_model_module": "@jupyter-widgets/controls",
      "_model_module_version": "1.5.0",
      "_model_name": "ButtonModel",
      "_view_count": null,
      "_view_module": "@jupyter-widgets/controls",
      "_view_module_version": "1.5.0",
      "_view_name": "ButtonView",
      "button_style": "",
      "description": "Classify",
      "disabled": false,
      "icon": "",
      "layout": "IPY_MODEL_63c07d0f94a44386bb55e05971484fc0",
      "style": "IPY_MODEL_ad8ecad38a3e462f8c89ef2892cb7e46",
      "tooltip": ""
     }
    },
    "ec3f924d1b864d6b8d95383267b72e64": {
     "model_module": "@jupyter-widgets/base",
     "model_name": "LayoutModel",
     "state": {
      "_model_module": "@jupyter-widgets/base",
      "_model_module_version": "1.2.0",
      "_model_name": "LayoutModel",
      "_view_count": null,
      "_view_module": "@jupyter-widgets/base",
      "_view_module_version": "1.2.0",
      "_view_name": "LayoutView",
      "align_content": null,
      "align_items": null,
      "align_self": null,
      "border": null,
      "bottom": null,
      "display": null,
      "flex": null,
      "flex_flow": null,
      "grid_area": null,
      "grid_auto_columns": null,
      "grid_auto_flow": null,
      "grid_auto_rows": null,
      "grid_column": null,
      "grid_gap": null,
      "grid_row": null,
      "grid_template_areas": null,
      "grid_template_columns": null,
      "grid_template_rows": null,
      "height": null,
      "justify_content": null,
      "justify_items": null,
      "left": null,
      "margin": null,
      "max_height": null,
      "max_width": null,
      "min_height": null,
      "min_width": null,
      "object_fit": null,
      "object_position": null,
      "order": null,
      "overflow": null,
      "overflow_x": null,
      "overflow_y": null,
      "padding": null,
      "right": null,
      "top": null,
      "visibility": null,
      "width": null
     }
    },
    "eddae847a4de4a9da03146dd12ccd1e2": {
     "model_module": "@jupyter-widgets/controls",
     "model_name": "FileUploadModel",
     "state": {
      "_counter": 2,
      "_dom_classes": [],
      "_model_module": "@jupyter-widgets/controls",
      "_model_module_version": "1.5.0",
      "_model_name": "FileUploadModel",
      "_view_count": null,
      "_view_module": "@jupyter-widgets/controls",
      "_view_module_version": "1.5.0",
      "_view_name": "FileUploadView",
      "accept": "",
      "button_style": "",
      "data": [
       null
      ],
      "description": "Upload",
      "description_tooltip": null,
      "disabled": false,
      "error": "",
      "icon": "upload",
      "layout": "IPY_MODEL_563a73fb65f9486f8884e8386c3bf441",
      "metadata": [
       {
        "lastModified": 1600870279743,
        "name": "00000001.jpg",
        "size": 184874,
        "type": "image/jpeg"
       }
      ],
      "multiple": false,
      "style": "IPY_MODEL_87106ffb72ad479c8dc1478af1222c8d"
     }
    }
   }
  }
 },
 "nbformat": 4,
 "nbformat_minor": 1
}
